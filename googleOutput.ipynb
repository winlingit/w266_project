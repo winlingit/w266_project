{
 "cells": [
  {
   "cell_type": "code",
   "execution_count": 1,
   "metadata": {
    "collapsed": true
   },
   "outputs": [],
   "source": [
    "import re\n",
    "import nltk\n",
    "import pandas as pd\n",
    "import numpy as np\n",
    "from google.cloud import language"
   ]
  },
  {
   "cell_type": "code",
   "execution_count": 10,
   "metadata": {
    "collapsed": true
   },
   "outputs": [],
   "source": [
    "language_client = language.Client()"
   ]
  },
  {
   "cell_type": "code",
   "execution_count": 109,
   "metadata": {
    "collapsed": false
   },
   "outputs": [],
   "source": [
    "def googleAnnotate(fileName, nrows=None):\n",
    "    '''\n",
    "    Takes a csv file in the form of [speaker, dialogue]\n",
    "    Pass each dialogue into google language API\n",
    "    Attach the output to the dataframe: [speaker, dialogue, sentences, sentiment, entities, tokens]\n",
    "    sentences contain a dict {content, begin(index), (sentiment)score, (sentiment)magnitude} for each sentence\n",
    "    sentiment contain {score, magnitude} for the entire dialogue\n",
    "    entities contain {name, type, metadata, salience, mentions} for each entity\n",
    "    tokens contain {}\n",
    "    '''\n",
    "    language_client = language.Client()\n",
    "    df = pd.read_csv(fileName, names=['speaker', 'dialogue'], nrows=nrows)\n",
    "    df['sentences'] = None\n",
    "    df['sentiment'] = None\n",
    "    df['entities'] = None\n",
    "    df['tokens'] = None\n",
    "    for i in range(len(df)):\n",
    "        document = language_client.document_from_text(df.loc[i, 'dialogue'])\n",
    "        annText = document.annotate_text()\n",
    "        df.set_value(i, 'sentences', [{'content':x.content, 'begin':x.begin, 'score':x.sentiment.score, \n",
    "                                       'magnitude':x.sentiment.magnitude} for x in annText.sentences])\n",
    "        df.set_value(i, 'sentiment', {'score':annText.sentiment.score, 'magnitude':annText.sentiment.magnitude})\n",
    "        df.set_value(i, 'entities', [{'name':x.name, 'type':x.entity_type, 'meta':x.metadata, \n",
    "                                      'salience':x.salience, 'mentions':x.mentions} for x in annText.entities])\n",
    "        df.set_value(i, 'tokens', [{'content':x.text_content, 'begin':x.text_begin, 'pos':x.part_of_speech, \n",
    "                                    'index':x.edge_index, 'label':x.edge_label, 'lemma':x.lemma} for x in annText.tokens])\n",
    "    return df"
   ]
  },
  {
   "cell_type": "code",
   "execution_count": 110,
   "metadata": {
    "collapsed": false
   },
   "outputs": [],
   "source": [
    "df = googleAnnotate('prep_scripts/thor_tw.csv', 5)"
   ]
  },
  {
   "cell_type": "code",
   "execution_count": 111,
   "metadata": {
    "collapsed": false
   },
   "outputs": [
    {
     "data": {
      "text/html": [
       "<div>\n",
       "<table border=\"1\" class=\"dataframe\">\n",
       "  <thead>\n",
       "    <tr style=\"text-align: right;\">\n",
       "      <th></th>\n",
       "      <th>speaker</th>\n",
       "      <th>dialogue</th>\n",
       "      <th>sentences</th>\n",
       "      <th>sentiment</th>\n",
       "      <th>entities</th>\n",
       "      <th>tokens</th>\n",
       "    </tr>\n",
       "  </thead>\n",
       "  <tbody>\n",
       "    <tr>\n",
       "      <th>0</th>\n",
       "      <td>narrator</td>\n",
       "      <td>first lines</td>\n",
       "      <td>[{u'content': u'first lines', u'begin': 0, u's...</td>\n",
       "      <td>{u'score': 0, u'magnitude': 0}</td>\n",
       "      <td>[{u'salience': 1, u'meta': {}, u'type': u'OTHE...</td>\n",
       "      <td>[{u'index': 1, u'begin': 0, u'pos': u'ADJ', u'...</td>\n",
       "    </tr>\n",
       "    <tr>\n",
       "      <th>1</th>\n",
       "      <td>jane foster</td>\n",
       "      <td>wait for it.</td>\n",
       "      <td>[{u'content': u'wait for it.', u'begin': 0, u'...</td>\n",
       "      <td>{u'score': 0, u'magnitude': 0}</td>\n",
       "      <td>[]</td>\n",
       "      <td>[{u'index': 0, u'begin': 0, u'pos': u'VERB', u...</td>\n",
       "    </tr>\n",
       "    <tr>\n",
       "      <th>2</th>\n",
       "      <td>darcy lewis</td>\n",
       "      <td>can i turn on the radio?</td>\n",
       "      <td>[{u'content': u'can i turn on the radio?', u'b...</td>\n",
       "      <td>{u'score': 0, u'magnitude': 0}</td>\n",
       "      <td>[{u'salience': 1, u'meta': {}, u'type': u'OTHE...</td>\n",
       "      <td>[{u'index': 2, u'begin': 0, u'pos': u'VERB', u...</td>\n",
       "    </tr>\n",
       "    <tr>\n",
       "      <th>3</th>\n",
       "      <td>jane foster</td>\n",
       "      <td>no!</td>\n",
       "      <td>[{u'content': u'no!', u'begin': 0, u'score': -...</td>\n",
       "      <td>{u'score': -0.3, u'magnitude': 0.3}</td>\n",
       "      <td>[]</td>\n",
       "      <td>[{u'index': 0, u'begin': 0, u'pos': u'X', u'la...</td>\n",
       "    </tr>\n",
       "    <tr>\n",
       "      <th>4</th>\n",
       "      <td>erik selvig</td>\n",
       "      <td>jane, you cant keep doing this.</td>\n",
       "      <td>[{u'content': u'jane, you cant keep doing this...</td>\n",
       "      <td>{u'score': -0.4, u'magnitude': 0.4}</td>\n",
       "      <td>[]</td>\n",
       "      <td>[{u'index': 4, u'begin': 0, u'pos': u'NOUN', u...</td>\n",
       "    </tr>\n",
       "  </tbody>\n",
       "</table>\n",
       "</div>"
      ],
      "text/plain": [
       "       speaker                         dialogue  \\\n",
       "0     narrator                      first lines   \n",
       "1  jane foster                     wait for it.   \n",
       "2  darcy lewis         can i turn on the radio?   \n",
       "3  jane foster                              no!   \n",
       "4  erik selvig  jane, you cant keep doing this.   \n",
       "\n",
       "                                           sentences  \\\n",
       "0  [{u'content': u'first lines', u'begin': 0, u's...   \n",
       "1  [{u'content': u'wait for it.', u'begin': 0, u'...   \n",
       "2  [{u'content': u'can i turn on the radio?', u'b...   \n",
       "3  [{u'content': u'no!', u'begin': 0, u'score': -...   \n",
       "4  [{u'content': u'jane, you cant keep doing this...   \n",
       "\n",
       "                             sentiment  \\\n",
       "0       {u'score': 0, u'magnitude': 0}   \n",
       "1       {u'score': 0, u'magnitude': 0}   \n",
       "2       {u'score': 0, u'magnitude': 0}   \n",
       "3  {u'score': -0.3, u'magnitude': 0.3}   \n",
       "4  {u'score': -0.4, u'magnitude': 0.4}   \n",
       "\n",
       "                                            entities  \\\n",
       "0  [{u'salience': 1, u'meta': {}, u'type': u'OTHE...   \n",
       "1                                                 []   \n",
       "2  [{u'salience': 1, u'meta': {}, u'type': u'OTHE...   \n",
       "3                                                 []   \n",
       "4                                                 []   \n",
       "\n",
       "                                              tokens  \n",
       "0  [{u'index': 1, u'begin': 0, u'pos': u'ADJ', u'...  \n",
       "1  [{u'index': 0, u'begin': 0, u'pos': u'VERB', u...  \n",
       "2  [{u'index': 2, u'begin': 0, u'pos': u'VERB', u...  \n",
       "3  [{u'index': 0, u'begin': 0, u'pos': u'X', u'la...  \n",
       "4  [{u'index': 4, u'begin': 0, u'pos': u'NOUN', u...  "
      ]
     },
     "execution_count": 111,
     "metadata": {},
     "output_type": "execute_result"
    }
   ],
   "source": [
    "df.head()"
   ]
  },
  {
   "cell_type": "code",
   "execution_count": null,
   "metadata": {
    "collapsed": true
   },
   "outputs": [],
   "source": []
  }
 ],
 "metadata": {
  "kernelspec": {
   "display_name": "Python [default]",
   "language": "python",
   "name": "python2"
  },
  "language_info": {
   "codemirror_mode": {
    "name": "ipython",
    "version": 2
   },
   "file_extension": ".py",
   "mimetype": "text/x-python",
   "name": "python",
   "nbconvert_exporter": "python",
   "pygments_lexer": "ipython2",
   "version": "2.7.13"
  }
 },
 "nbformat": 4,
 "nbformat_minor": 2
}
