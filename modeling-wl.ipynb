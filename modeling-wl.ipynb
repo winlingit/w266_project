{
 "cells": [
  {
   "cell_type": "code",
   "execution_count": 2,
   "metadata": {
    "collapsed": false
   },
   "outputs": [],
   "source": [
    "%load_ext autoreload\n",
    "%autoreload 2\n",
    "\n",
    "import re\n",
    "import nltk\n",
    "import numpy as np\n",
    "import pandas as pd\n",
    "import os\n",
    "from pronounResolution import *\n",
    "from relationExtract import *"
   ]
  },
  {
   "cell_type": "markdown",
   "metadata": {},
   "source": [
    "## Prepare Dataset"
   ]
  },
  {
   "cell_type": "markdown",
   "metadata": {},
   "source": [
    "View files for annotated movie scripts."
   ]
  },
  {
   "cell_type": "code",
   "execution_count": 50,
   "metadata": {
    "collapsed": false
   },
   "outputs": [
    {
     "name": "stdout",
     "output_type": "stream",
     "text": [
      "movie scripts (annotated):\n",
      "0 ant-man_tw_gapi.csv\n",
      "1 avengers_age_of_ultron_tw_gapi.csv\n",
      "2 captain_america_civil_war_tw_gapi.csv\n",
      "3 captain_america_the_first_avenger_tw_gapi.csv\n",
      "4 captain_america_the_winter_soldier_tw_gapi.csv\n",
      "5 fantastic_four_imsdb_gapi.csv\n",
      "6 iron_man_3_tw_gapi.csv\n",
      "7 lego_marvel_super_heroes_tw_gapi.csv\n",
      "8 spider-man_imsdb_gapi.csv\n",
      "9 the_amazing_spider-man_2_tw_gapi.csv\n",
      "10 the_amazing_spider-man_tw_gapi.csv\n",
      "11 the_avengers_tw_gapi.csv\n",
      "12 the_wolverine_tw_gapi.csv\n",
      "13 thor_the_dark_world_tw_gapi.csv\n",
      "14 thor_tw_gapi.csv\n",
      "15 x-men_apocalypse_tw_gapi.csv\n",
      "16 x-men_days_of_future_past_tw_gapi.csv\n",
      "17 x-men_imsdb_gapi.csv\n",
      "18 x-men_the_last_stand_tw_gapi.csv\n"
     ]
    }
   ],
   "source": [
    "# get annotation files\n",
    "files = [x for x in os.listdir('prep_scripts') if '_gapi' in x]\n",
    "\n",
    "print 'movie scripts (annotated):'\n",
    "for i, file in enumerate(files):\n",
    "    print i, file"
   ]
  },
  {
   "cell_type": "markdown",
   "metadata": {},
   "source": [
    "Load raw annotated dialogues for single movie script (speaker, dialogue, sentences, sentiment, entities, tokens) and create base dataset that can be used for multiple models."
   ]
  },
  {
   "cell_type": "code",
   "execution_count": 76,
   "metadata": {
    "collapsed": false
   },
   "outputs": [
    {
     "name": "stdout",
     "output_type": "stream",
     "text": [
      "['index', 'begin', 'pos', 'label', 'content', 'lemma']\n"
     ]
    }
   ],
   "source": [
    "# read first annotation\n",
    "df = pd.read_csv('prep_scripts/' + files[0])[['speaker', 'dialogue', 'sentences', 'sentiment', 'entities', 'tokens']]\n",
    "\n",
    "# evaluate strings for lists/dicts of tokens, sentiment, entities\n",
    "df['tokens'] = df['tokens'].apply(lambda x: eval(x))\n",
    "df['sentiment'] = df['sentiment'].apply(lambda x: eval(x))\n",
    "df['entities'] = df['entities'].apply(lambda x: eval(x))\n",
    "df.head(10)\n",
    "\n",
    "print df.loc[0]['tokens'][0].keys()"
   ]
  },
  {
   "cell_type": "markdown",
   "metadata": {},
   "source": [
    "Get unique characters in script.  Add features to base dataset that will be used to resolve pronouns."
   ]
  },
  {
   "cell_type": "code",
   "execution_count": 78,
   "metadata": {
    "collapsed": false
   },
   "outputs": [
    {
     "name": "stdout",
     "output_type": "stream",
     "text": [
      "['Cassie Lang', 'Ice Cream Store Customer', 'Darren Cross', 'Carson', 'Pym Tech Security Guard', 'Peggy Carter', 'Cell Phone', 'Mitchell Carson', 'Dale', 'Hope van Dyne', 'Maggie Lang', 'Scott Lang', 'Frank', 'Pym Tech Employee', 'Cop on Speaker', 'Alpha Guard', 'Dave', 'Peachy', 'Luis', 'Pool BBQ Dad', 'Dr. Hank Pym', 'narrator', 'Scot Lang', 'Pym Tech Gate Guard', 'Voice over Radio', 'Sam Wilson', 'Hideous Rabbit', 'Paxton', 'Howard Stark', 'Detective', 'Kurt', 'Gale', 'Computer', 'Scott', 'Cab Driver', 'Police Radio', 'Steve Rogers']\n",
      "37 characters\n",
      "1012 lines of dialogue\n",
      "2016 pronouns in 740 lines of dialogue\n"
     ]
    },
    {
     "data": {
      "text/html": [
       "<div>\n",
       "<table border=\"1\" class=\"dataframe\">\n",
       "  <thead>\n",
       "    <tr style=\"text-align: right;\">\n",
       "      <th></th>\n",
       "      <th>speaker</th>\n",
       "      <th>dialogue</th>\n",
       "      <th>sentences</th>\n",
       "      <th>sentiment</th>\n",
       "      <th>entities</th>\n",
       "      <th>tokens</th>\n",
       "      <th>num_pron</th>\n",
       "      <th>total_sent</th>\n",
       "      <th>speaker_prev</th>\n",
       "      <th>speaker_next</th>\n",
       "    </tr>\n",
       "  </thead>\n",
       "  <tbody>\n",
       "    <tr>\n",
       "      <th>0</th>\n",
       "      <td>narrator</td>\n",
       "      <td>1989 – Hank Pym enters a SHIELD facility</td>\n",
       "      <td>[{'content': u'1989 \\u2013 Hank Pym enters a S...</td>\n",
       "      <td>{u'score': 0.3, u'magnitude': 0.3}</td>\n",
       "      <td>[{u'type': u'PERSON', u'meta': {}, u'salience'...</td>\n",
       "      <td>[{u'index': 0, u'begin': 0, u'pos': u'NUM', u'...</td>\n",
       "      <td>0</td>\n",
       "      <td>0.09</td>\n",
       "      <td>NaN</td>\n",
       "      <td>Dr. Hank Pym</td>\n",
       "    </tr>\n",
       "    <tr>\n",
       "      <th>1</th>\n",
       "      <td>Dr. Hank Pym</td>\n",
       "      <td>Stark.</td>\n",
       "      <td>[{'content': u'Stark.', 'begin': 0, 'score': 0...</td>\n",
       "      <td>{u'score': 0.1, u'magnitude': 0.1}</td>\n",
       "      <td>[{u'type': u'WORK_OF_ART', u'meta': {}, u'sali...</td>\n",
       "      <td>[{u'index': 0, u'begin': 0, u'pos': u'NOUN', u...</td>\n",
       "      <td>0</td>\n",
       "      <td>0.01</td>\n",
       "      <td>narrator</td>\n",
       "      <td>Mitchell Carson</td>\n",
       "    </tr>\n",
       "    <tr>\n",
       "      <th>2</th>\n",
       "      <td>Mitchell Carson</td>\n",
       "      <td>He doesn't seem happy.</td>\n",
       "      <td>[{'content': u\"He doesn't seem happy.\", 'begin...</td>\n",
       "      <td>{u'score': -0.6, u'magnitude': 0.6}</td>\n",
       "      <td>[]</td>\n",
       "      <td>[{u'index': 3, u'begin': 0, u'pos': u'PRON', u...</td>\n",
       "      <td>1</td>\n",
       "      <td>-0.36</td>\n",
       "      <td>Dr. Hank Pym</td>\n",
       "      <td>Howard Stark</td>\n",
       "    </tr>\n",
       "    <tr>\n",
       "      <th>3</th>\n",
       "      <td>Howard Stark</td>\n",
       "      <td>Hello, Hank. You're supposed to be in Moscow.</td>\n",
       "      <td>[{'content': u'Hello, Hank.', 'begin': 0, 'sco...</td>\n",
       "      <td>{u'score': -0.1, u'magnitude': 1}</td>\n",
       "      <td>[{u'type': u'PERSON', u'meta': {}, u'salience'...</td>\n",
       "      <td>[{u'index': 2, u'begin': 0, u'pos': u'X', u'la...</td>\n",
       "      <td>1</td>\n",
       "      <td>-0.10</td>\n",
       "      <td>Mitchell Carson</td>\n",
       "      <td>Dr. Hank Pym</td>\n",
       "    </tr>\n",
       "    <tr>\n",
       "      <th>4</th>\n",
       "      <td>Dr. Hank Pym</td>\n",
       "      <td>I took a detour.[he places a vial containing a...</td>\n",
       "      <td>[{'content': u'I took a detour.[he places a vi...</td>\n",
       "      <td>{u'score': 0.4, u'magnitude': 0.4}</td>\n",
       "      <td>[{u'type': u'OTHER', u'meta': {}, u'salience':...</td>\n",
       "      <td>[{u'index': 1, u'begin': 0, u'pos': u'PRON', u...</td>\n",
       "      <td>3</td>\n",
       "      <td>0.16</td>\n",
       "      <td>Howard Stark</td>\n",
       "      <td>Peggy Carter</td>\n",
       "    </tr>\n",
       "  </tbody>\n",
       "</table>\n",
       "</div>"
      ],
      "text/plain": [
       "           speaker                                           dialogue  \\\n",
       "0         narrator           1989 – Hank Pym enters a SHIELD facility   \n",
       "1     Dr. Hank Pym                                             Stark.   \n",
       "2  Mitchell Carson                             He doesn't seem happy.   \n",
       "3     Howard Stark      Hello, Hank. You're supposed to be in Moscow.   \n",
       "4     Dr. Hank Pym  I took a detour.[he places a vial containing a...   \n",
       "\n",
       "                                           sentences  \\\n",
       "0  [{'content': u'1989 \\u2013 Hank Pym enters a S...   \n",
       "1  [{'content': u'Stark.', 'begin': 0, 'score': 0...   \n",
       "2  [{'content': u\"He doesn't seem happy.\", 'begin...   \n",
       "3  [{'content': u'Hello, Hank.', 'begin': 0, 'sco...   \n",
       "4  [{'content': u'I took a detour.[he places a vi...   \n",
       "\n",
       "                             sentiment  \\\n",
       "0   {u'score': 0.3, u'magnitude': 0.3}   \n",
       "1   {u'score': 0.1, u'magnitude': 0.1}   \n",
       "2  {u'score': -0.6, u'magnitude': 0.6}   \n",
       "3    {u'score': -0.1, u'magnitude': 1}   \n",
       "4   {u'score': 0.4, u'magnitude': 0.4}   \n",
       "\n",
       "                                            entities  \\\n",
       "0  [{u'type': u'PERSON', u'meta': {}, u'salience'...   \n",
       "1  [{u'type': u'WORK_OF_ART', u'meta': {}, u'sali...   \n",
       "2                                                 []   \n",
       "3  [{u'type': u'PERSON', u'meta': {}, u'salience'...   \n",
       "4  [{u'type': u'OTHER', u'meta': {}, u'salience':...   \n",
       "\n",
       "                                              tokens  num_pron  total_sent  \\\n",
       "0  [{u'index': 0, u'begin': 0, u'pos': u'NUM', u'...         0        0.09   \n",
       "1  [{u'index': 0, u'begin': 0, u'pos': u'NOUN', u...         0        0.01   \n",
       "2  [{u'index': 3, u'begin': 0, u'pos': u'PRON', u...         1       -0.36   \n",
       "3  [{u'index': 2, u'begin': 0, u'pos': u'X', u'la...         1       -0.10   \n",
       "4  [{u'index': 1, u'begin': 0, u'pos': u'PRON', u...         3        0.16   \n",
       "\n",
       "      speaker_prev     speaker_next  \n",
       "0              NaN     Dr. Hank Pym  \n",
       "1         narrator  Mitchell Carson  \n",
       "2     Dr. Hank Pym     Howard Stark  \n",
       "3  Mitchell Carson     Dr. Hank Pym  \n",
       "4     Howard Stark     Peggy Carter  "
      ]
     },
     "execution_count": 78,
     "metadata": {},
     "output_type": "execute_result"
    }
   ],
   "source": [
    "# number of pronouns for each line\n",
    "df['num_pron'] = df['tokens'].apply(lambda x: sum([int(t['pos'] == 'PRON') for t in x]))\n",
    "\n",
    "# total sentiment score for each line\n",
    "df['total_sent'] = df['sentiment'].apply(lambda x: x['score'] * x['magnitude'])\n",
    "\n",
    "# previous and next speaker for each line\n",
    "df['speaker_prev'] = df.speaker.shift(1)\n",
    "df['speaker_next'] = df.speaker.shift(-1)\n",
    "\n",
    "# list of unique characters in script\n",
    "charMentions = dict(df.groupby('speaker').speaker.count())\n",
    "charSentiment = dict(df.groupby('speaker').total_sent.sum())\n",
    "charList = charMentions.keys()\n",
    "\n",
    "# print charMentions\n",
    "# print charSentiment\n",
    "print charList\n",
    "\n",
    "print '%i characters' % (len(charList))\n",
    "print '%i lines of dialogue' % (len(df))\n",
    "print '%i pronouns in %i lines of dialogue' % (sum(df.num_pron), sum(df.num_pron > 0))\n",
    "\n",
    "df.head()"
   ]
  },
  {
   "cell_type": "markdown",
   "metadata": {},
   "source": [
    "## Task 1: Pronoun Resolution"
   ]
  },
  {
   "cell_type": "markdown",
   "metadata": {},
   "source": [
    "Run different models on base dataset."
   ]
  },
  {
   "cell_type": "code",
   "execution_count": 85,
   "metadata": {
    "collapsed": false,
    "scrolled": true
   },
   "outputs": [
    {
     "data": {
      "text/html": [
       "<div>\n",
       "<table border=\"1\" class=\"dataframe\">\n",
       "  <thead>\n",
       "    <tr style=\"text-align: right;\">\n",
       "      <th></th>\n",
       "      <th>speaker</th>\n",
       "      <th>dialogue</th>\n",
       "      <th>sentences</th>\n",
       "      <th>sentiment</th>\n",
       "      <th>entities</th>\n",
       "      <th>tokens</th>\n",
       "      <th>num_pron</th>\n",
       "      <th>total_sent</th>\n",
       "      <th>speaker_prev</th>\n",
       "      <th>speaker_next</th>\n",
       "    </tr>\n",
       "  </thead>\n",
       "  <tbody>\n",
       "    <tr>\n",
       "      <th>0</th>\n",
       "      <td>narrator</td>\n",
       "      <td>1989 – Hank Pym enters a SHIELD facility</td>\n",
       "      <td>[{'content': u'1989 \\u2013 Hank Pym enters a S...</td>\n",
       "      <td>{u'score': 0.3, u'magnitude': 0.3}</td>\n",
       "      <td>[{u'type': u'PERSON', u'meta': {}, u'salience'...</td>\n",
       "      <td>[{u'index': 0, u'begin': 0, u'pos': u'NUM', u'...</td>\n",
       "      <td>0</td>\n",
       "      <td>0.09</td>\n",
       "      <td>NaN</td>\n",
       "      <td>Dr. Hank Pym</td>\n",
       "    </tr>\n",
       "    <tr>\n",
       "      <th>1</th>\n",
       "      <td>Dr. Hank Pym</td>\n",
       "      <td>Stark.</td>\n",
       "      <td>[{'content': u'Stark.', 'begin': 0, 'score': 0...</td>\n",
       "      <td>{u'score': 0.1, u'magnitude': 0.1}</td>\n",
       "      <td>[{u'type': u'WORK_OF_ART', u'meta': {}, u'sali...</td>\n",
       "      <td>[{u'index': 0, u'begin': 0, u'pos': u'NOUN', u...</td>\n",
       "      <td>0</td>\n",
       "      <td>0.01</td>\n",
       "      <td>narrator</td>\n",
       "      <td>Mitchell Carson</td>\n",
       "    </tr>\n",
       "    <tr>\n",
       "      <th>2</th>\n",
       "      <td>Mitchell Carson</td>\n",
       "      <td>He doesn't seem happy.</td>\n",
       "      <td>[{'content': u\"He doesn't seem happy.\", 'begin...</td>\n",
       "      <td>{u'score': -0.6, u'magnitude': 0.6}</td>\n",
       "      <td>[]</td>\n",
       "      <td>[{u'index': 3, u'begin': 0, u'pos': u'PRON', u...</td>\n",
       "      <td>1</td>\n",
       "      <td>-0.36</td>\n",
       "      <td>Dr. Hank Pym</td>\n",
       "      <td>Howard Stark</td>\n",
       "    </tr>\n",
       "    <tr>\n",
       "      <th>3</th>\n",
       "      <td>Howard Stark</td>\n",
       "      <td>Hello, Hank. You're supposed to be in Moscow.</td>\n",
       "      <td>[{'content': u'Hello, Hank.', 'begin': 0, 'sco...</td>\n",
       "      <td>{u'score': -0.1, u'magnitude': 1}</td>\n",
       "      <td>[{u'type': u'PERSON', u'meta': {}, u'salience'...</td>\n",
       "      <td>[{u'index': 2, u'begin': 0, u'pos': u'X', u'la...</td>\n",
       "      <td>1</td>\n",
       "      <td>-0.10</td>\n",
       "      <td>Mitchell Carson</td>\n",
       "      <td>Dr. Hank Pym</td>\n",
       "    </tr>\n",
       "    <tr>\n",
       "      <th>4</th>\n",
       "      <td>Dr. Hank Pym</td>\n",
       "      <td>I took a detour.[he places a vial containing a...</td>\n",
       "      <td>[{'content': u'I took a detour.[he places a vi...</td>\n",
       "      <td>{u'score': 0.4, u'magnitude': 0.4}</td>\n",
       "      <td>[{u'type': u'OTHER', u'meta': {}, u'salience':...</td>\n",
       "      <td>[{u'index': 1, u'begin': 0, u'pos': u'PRON', u...</td>\n",
       "      <td>3</td>\n",
       "      <td>0.16</td>\n",
       "      <td>Howard Stark</td>\n",
       "      <td>Peggy Carter</td>\n",
       "    </tr>\n",
       "  </tbody>\n",
       "</table>\n",
       "</div>"
      ],
      "text/plain": [
       "           speaker                                           dialogue  \\\n",
       "0         narrator           1989 – Hank Pym enters a SHIELD facility   \n",
       "1     Dr. Hank Pym                                             Stark.   \n",
       "2  Mitchell Carson                             He doesn't seem happy.   \n",
       "3     Howard Stark      Hello, Hank. You're supposed to be in Moscow.   \n",
       "4     Dr. Hank Pym  I took a detour.[he places a vial containing a...   \n",
       "\n",
       "                                           sentences  \\\n",
       "0  [{'content': u'1989 \\u2013 Hank Pym enters a S...   \n",
       "1  [{'content': u'Stark.', 'begin': 0, 'score': 0...   \n",
       "2  [{'content': u\"He doesn't seem happy.\", 'begin...   \n",
       "3  [{'content': u'Hello, Hank.', 'begin': 0, 'sco...   \n",
       "4  [{'content': u'I took a detour.[he places a vi...   \n",
       "\n",
       "                             sentiment  \\\n",
       "0   {u'score': 0.3, u'magnitude': 0.3}   \n",
       "1   {u'score': 0.1, u'magnitude': 0.1}   \n",
       "2  {u'score': -0.6, u'magnitude': 0.6}   \n",
       "3    {u'score': -0.1, u'magnitude': 1}   \n",
       "4   {u'score': 0.4, u'magnitude': 0.4}   \n",
       "\n",
       "                                            entities  \\\n",
       "0  [{u'type': u'PERSON', u'meta': {}, u'salience'...   \n",
       "1  [{u'type': u'WORK_OF_ART', u'meta': {}, u'sali...   \n",
       "2                                                 []   \n",
       "3  [{u'type': u'PERSON', u'meta': {}, u'salience'...   \n",
       "4  [{u'type': u'OTHER', u'meta': {}, u'salience':...   \n",
       "\n",
       "                                              tokens  num_pron  total_sent  \\\n",
       "0  [{u'index': 0, u'begin': 0, u'pos': u'NUM', u'...         0        0.09   \n",
       "1  [{u'index': 0, u'begin': 0, u'pos': u'NOUN', u...         0        0.01   \n",
       "2  [{u'index': 3, u'begin': 0, u'pos': u'PRON', u...         1       -0.36   \n",
       "3  [{u'index': 2, u'begin': 0, u'pos': u'X', u'la...         1       -0.10   \n",
       "4  [{u'index': 1, u'begin': 0, u'pos': u'PRON', u...         3        0.16   \n",
       "\n",
       "      speaker_prev     speaker_next  \n",
       "0              NaN     Dr. Hank Pym  \n",
       "1         narrator  Mitchell Carson  \n",
       "2     Dr. Hank Pym     Howard Stark  \n",
       "3  Mitchell Carson     Dr. Hank Pym  \n",
       "4     Howard Stark     Peggy Carter  "
      ]
     },
     "execution_count": 85,
     "metadata": {},
     "output_type": "execute_result"
    }
   ],
   "source": [
    "# model 0: baseline\n",
    "df1 = df\n",
    "df1.tokens = df1.apply(lambda x: pronResolution_base(charList, x), axis=1)\n",
    "\n",
    "# model 1: current and adjacent speakers\n",
    "df2 = df\n",
    "df2.tokens = df2.apply(lambda x: pronResolution_nn(charList, x), axis=1)\n",
    "\n",
    "df.head()"
   ]
  },
  {
   "cell_type": "markdown",
   "metadata": {},
   "source": [
    "Evaluate model by manually checking if characters for resolved pronouns are correct."
   ]
  },
  {
   "cell_type": "code",
   "execution_count": 84,
   "metadata": {
    "collapsed": false,
    "scrolled": true
   },
   "outputs": [
    {
     "name": "stdout",
     "output_type": "stream",
     "text": [
      "\n",
      "******** line 721 ********\n",
      "719. Kurt:\n",
      "Sorcery!\n",
      "\n",
      "720. Luis:\n",
      "Ahh! Ahh! Get off! Get off! Ahh! [Luis runs off trying to get Scott off his shoulder]\n",
      "\n",
      "=> 721. Scott Lang:\n",
      "=> I thought daddy didn't get scared?\n",
      "\n",
      "722. narrator:\n",
      "Luis, Dave and Kurt have all fallen asleep on the couch\n",
      "\n",
      "723. Hope van Dyne:\n",
      "I gave them each half a Xanax and Hank explained the science of the suit to them. Fell right asleep.\n",
      "\n",
      "******** test model 1: line 721 ********\n",
      "1 pronouns resolved\n",
      "1. I => Scott Lang\n",
      "\n",
      "how many are correctly identified? 0\n",
      "\n",
      "******** line 721 ********\n",
      "719. Kurt:\n",
      "Sorcery!\n",
      "\n",
      "720. Luis:\n",
      "Ahh! Ahh! Get off! Get off! Ahh! [Luis runs off trying to get Scott off his shoulder]\n",
      "\n",
      "=> 721. Scott Lang:\n",
      "=> I thought daddy didn't get scared?\n",
      "\n",
      "722. narrator:\n",
      "Luis, Dave and Kurt have all fallen asleep on the couch\n",
      "\n",
      "723. Hope van Dyne:\n",
      "I gave them each half a Xanax and Hank explained the science of the suit to them. Fell right asleep.\n",
      "\n",
      "******** test model 2: line 721 ********\n",
      "1 pronouns resolved\n",
      "1. I => Scott Lang\n",
      "\n",
      "how many are correctly identified? 0\n",
      "\n",
      "******** line 19 ********\n",
      "17. Howard Stark:\n",
      "We don't accept it. Formally. Hank, we need you. The Pym Particle is a miracle. Please, don't let your past determine the future.\n",
      "\n",
      "18. Dr. Hank Pym:\n",
      "As long as I am alive, nobody will ever get that formula. [Pym turns and leaves]\n",
      "\n",
      "=> 19. Mitchell Carson:\n",
      "=> We shouldn't let him leave the building.\n",
      "\n",
      "20. Peggy Carter:\n",
      "You've already lied to him, now you want to go to war with him?\n",
      "\n",
      "21. Mitchell Carson:\n",
      "Yes! Our scientists haven't come close to replicating his work.\n",
      "\n",
      "******** test model 1: line 19 ********\n",
      "2 pronouns resolved\n",
      "1. We => ['Computer']\n",
      "2. him => ['Hope van Dyne']\n",
      "\n",
      "how many are correctly identified? 0\n",
      "\n",
      "******** line 19 ********\n",
      "17. Howard Stark:\n",
      "We don't accept it. Formally. Hank, we need you. The Pym Particle is a miracle. Please, don't let your past determine the future.\n",
      "\n",
      "18. Dr. Hank Pym:\n",
      "As long as I am alive, nobody will ever get that formula. [Pym turns and leaves]\n",
      "\n",
      "=> 19. Mitchell Carson:\n",
      "=> We shouldn't let him leave the building.\n",
      "\n",
      "20. Peggy Carter:\n",
      "You've already lied to him, now you want to go to war with him?\n",
      "\n",
      "21. Mitchell Carson:\n",
      "Yes! Our scientists haven't come close to replicating his work.\n",
      "\n",
      "******** test model 2: line 19 ********\n",
      "2 pronouns resolved\n",
      "1. We => ['Computer']\n",
      "2. him => ['Hope van Dyne']\n",
      "\n",
      "how many are correctly identified? 0\n",
      "\n",
      "******** line 520 ********\n",
      "518. Dr. Hank Pym:\n",
      "It means that you would enter a quantum realm.\n",
      "\n",
      "519. Scott Lang:\n",
      "What does that mean?\n",
      "\n",
      "=> 520. Dr. Hank Pym:\n",
      "=> It means that you would enter a reality where all concepts of time and space become irrelevant as you shrink for all eternity. Everything that you know, and love, gone forever.\n",
      "\n",
      "521. Scott Lang:\n",
      "Cool. Yeah. I'm… if it ain't broke.\n",
      "\n",
      "522. narrator:\n",
      "return to training\n",
      "\n",
      "******** test model 1: line 520 ********\n",
      "4 pronouns resolved\n",
      "1. It => ['Carson']\n",
      "2. you => Scott Lang\n",
      "3. you => Scott Lang\n",
      "4. you => Scott Lang\n",
      "\n",
      "how many are correctly identified? 0\n",
      "\n",
      "******** line 520 ********\n",
      "518. Dr. Hank Pym:\n",
      "It means that you would enter a quantum realm.\n",
      "\n",
      "519. Scott Lang:\n",
      "What does that mean?\n",
      "\n",
      "=> 520. Dr. Hank Pym:\n",
      "=> It means that you would enter a reality where all concepts of time and space become irrelevant as you shrink for all eternity. Everything that you know, and love, gone forever.\n",
      "\n",
      "521. Scott Lang:\n",
      "Cool. Yeah. I'm… if it ain't broke.\n",
      "\n",
      "522. narrator:\n",
      "return to training\n",
      "\n",
      "******** test model 2: line 520 ********\n",
      "4 pronouns resolved\n",
      "1. It => ['Carson']\n",
      "2. you => Scott Lang\n",
      "3. you => Scott Lang\n",
      "4. you => Scott Lang\n",
      "\n",
      "how many are correctly identified? 0\n",
      "\n",
      "******** test results ********\n",
      "model 1: precision = 0.00 (0/7 correct)\n",
      "model 2: precision = 0.00 (0/7 correct)\n"
     ]
    }
   ],
   "source": [
    "# evaluate resolved pronouns for multiple models\n",
    "pronEval([df1, df2], numExamples=3)"
   ]
  },
  {
   "cell_type": "markdown",
   "metadata": {},
   "source": [
    "Add characters for resolved pronouns to entities."
   ]
  },
  {
   "cell_type": "code",
   "execution_count": null,
   "metadata": {
    "collapsed": true
   },
   "outputs": [],
   "source": []
  },
  {
   "cell_type": "markdown",
   "metadata": {},
   "source": [
    "## Task 2: Relation Extraction"
   ]
  },
  {
   "cell_type": "code",
   "execution_count": null,
   "metadata": {
    "collapsed": false
   },
   "outputs": [],
   "source": [
    "df['relations'] = df.tokens.apply(lambda x:simpleRE(x))"
   ]
  },
  {
   "cell_type": "code",
   "execution_count": null,
   "metadata": {
    "collapsed": false
   },
   "outputs": [],
   "source": [
    "df[df.relations.notnull()].head().relations.values[1]"
   ]
  },
  {
   "cell_type": "code",
   "execution_count": null,
   "metadata": {
    "collapsed": false,
    "scrolled": true
   },
   "outputs": [],
   "source": [
    "df.head().tokens.apply(lambda x:simpleRE(x))"
   ]
  }
 ],
 "metadata": {
  "kernelspec": {
   "display_name": "Python 2",
   "language": "python",
   "name": "python2"
  },
  "language_info": {
   "codemirror_mode": {
    "name": "ipython",
    "version": 2
   },
   "file_extension": ".py",
   "mimetype": "text/x-python",
   "name": "python",
   "nbconvert_exporter": "python",
   "pygments_lexer": "ipython2",
   "version": "2.7.13"
  }
 },
 "nbformat": 4,
 "nbformat_minor": 2
}
