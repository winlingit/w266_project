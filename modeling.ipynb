{
 "cells": [
  {
   "cell_type": "code",
   "execution_count": 104,
   "metadata": {
    "collapsed": false
   },
   "outputs": [
    {
     "name": "stdout",
     "output_type": "stream",
     "text": [
      "The autoreload extension is already loaded. To reload it, use:\n",
      "  %reload_ext autoreload\n"
     ]
    }
   ],
   "source": [
    "%load_ext autoreload\n",
    "%autoreload 2\n",
    "\n",
    "import re\n",
    "import nltk\n",
    "import numpy as np\n",
    "import pandas as pd\n",
    "import os\n",
    "from pronounResolution import pronResolution_base, pronEval\n",
    "from relationExtract import simpleRE"
   ]
  },
  {
   "cell_type": "code",
   "execution_count": 19,
   "metadata": {
    "collapsed": false
   },
   "outputs": [
    {
     "data": {
      "text/html": [
       "<div>\n",
       "<table border=\"1\" class=\"dataframe\">\n",
       "  <thead>\n",
       "    <tr style=\"text-align: right;\">\n",
       "      <th></th>\n",
       "      <th>speaker</th>\n",
       "      <th>dialogue</th>\n",
       "      <th>sentences</th>\n",
       "      <th>sentiment</th>\n",
       "      <th>entities</th>\n",
       "      <th>tokens</th>\n",
       "    </tr>\n",
       "  </thead>\n",
       "  <tbody>\n",
       "    <tr>\n",
       "      <th>0</th>\n",
       "      <td>narrator</td>\n",
       "      <td>1989 – Hank Pym enters a SHIELD facility</td>\n",
       "      <td>[{'content': u'1989 \\u2013 Hank Pym enters a S...</td>\n",
       "      <td>{'magnitude': 0.3, 'score': 0.3}</td>\n",
       "      <td>[{'salience': 0.5188706, 'meta': {}, 'type': u...</td>\n",
       "      <td>[{'pos': 'NUM', 'index': 0, 'content': '1989',...</td>\n",
       "    </tr>\n",
       "    <tr>\n",
       "      <th>1</th>\n",
       "      <td>Dr. Hank Pym</td>\n",
       "      <td>Stark.</td>\n",
       "      <td>[{'content': u'Stark.', 'begin': 0, 'score': 0...</td>\n",
       "      <td>{'magnitude': 0.1, 'score': 0.1}</td>\n",
       "      <td>[{'salience': 1, 'meta': {}, 'type': u'WORK_OF...</td>\n",
       "      <td>[{'pos': 'NOUN', 'index': 0, 'content': 'Stark...</td>\n",
       "    </tr>\n",
       "    <tr>\n",
       "      <th>2</th>\n",
       "      <td>Mitchell Carson</td>\n",
       "      <td>He doesn't seem happy.</td>\n",
       "      <td>[{'content': u\"He doesn't seem happy.\", 'begin...</td>\n",
       "      <td>{'magnitude': 0.6, 'score': -0.6}</td>\n",
       "      <td>[]</td>\n",
       "      <td>[{'pos': 'PRON', 'index': 3, 'content': 'He', ...</td>\n",
       "    </tr>\n",
       "    <tr>\n",
       "      <th>3</th>\n",
       "      <td>Howard Stark</td>\n",
       "      <td>Hello, Hank. You're supposed to be in Moscow.</td>\n",
       "      <td>[{'content': u'Hello, Hank.', 'begin': 0, 'sco...</td>\n",
       "      <td>{'magnitude': 1, 'score': -0.1}</td>\n",
       "      <td>[{'salience': 0.80661523, 'meta': {}, 'type': ...</td>\n",
       "      <td>[{'pos': 'X', 'index': 2, 'content': 'Hello', ...</td>\n",
       "    </tr>\n",
       "    <tr>\n",
       "      <th>4</th>\n",
       "      <td>Dr. Hank Pym</td>\n",
       "      <td>I took a detour.[he places a vial containing a...</td>\n",
       "      <td>[{'content': u'I took a detour.[he places a vi...</td>\n",
       "      <td>{'magnitude': 0.4, 'score': 0.4}</td>\n",
       "      <td>[{'salience': 0.34197578, 'meta': {}, 'type': ...</td>\n",
       "      <td>[{'pos': 'PRON', 'index': 1, 'content': 'I', '...</td>\n",
       "    </tr>\n",
       "    <tr>\n",
       "      <th>5</th>\n",
       "      <td>Peggy Carter</td>\n",
       "      <td>Tell me that isn't what I think it is.</td>\n",
       "      <td>[{'content': u\"Tell me that isn't what I think...</td>\n",
       "      <td>{'magnitude': 0.6, 'score': -0.6}</td>\n",
       "      <td>[]</td>\n",
       "      <td>[{'pos': 'VERB', 'index': 0, 'content': 'Tell'...</td>\n",
       "    </tr>\n",
       "    <tr>\n",
       "      <th>6</th>\n",
       "      <td>Dr. Hank Pym</td>\n",
       "      <td>It depends, if you think it's a poor attempt t...</td>\n",
       "      <td>[{'content': u\"It depends, if you think it's a...</td>\n",
       "      <td>{'magnitude': 1, 'score': -0.5}</td>\n",
       "      <td>[{'salience': 0.88545346, 'meta': {}, 'type': ...</td>\n",
       "      <td>[{'pos': 'PRON', 'index': 1, 'content': 'It', ...</td>\n",
       "    </tr>\n",
       "    <tr>\n",
       "      <th>7</th>\n",
       "      <td>Mitchell Carson</td>\n",
       "      <td>You were instructed to go to Russia. May I rem...</td>\n",
       "      <td>[{'content': u'You were instructed to go to Ru...</td>\n",
       "      <td>{'magnitude': 0.7, 'score': 0}</td>\n",
       "      <td>[{'salience': 0.87446207, 'meta': {}, 'type': ...</td>\n",
       "      <td>[{'pos': 'PRON', 'index': 2, 'content': 'You',...</td>\n",
       "    </tr>\n",
       "    <tr>\n",
       "      <th>8</th>\n",
       "      <td>Dr. Hank Pym</td>\n",
       "      <td>I'm a scientist.</td>\n",
       "      <td>[{'content': u\"I'm a scientist.\", 'begin': 0, ...</td>\n",
       "      <td>{'magnitude': 0.3, 'score': 0.3}</td>\n",
       "      <td>[{'salience': 1, 'meta': {}, 'type': u'PERSON'...</td>\n",
       "      <td>[{'pos': 'PRON', 'index': 1, 'content': 'I', '...</td>\n",
       "    </tr>\n",
       "    <tr>\n",
       "      <th>9</th>\n",
       "      <td>Howard Stark</td>\n",
       "      <td>Then act like one. The Pym Particle is the mos...</td>\n",
       "      <td>[{'content': u'Then act like one.', 'begin': 0...</td>\n",
       "      <td>{'magnitude': 1.2, 'score': 0.1}</td>\n",
       "      <td>[{'salience': 0.6887065, 'meta': {}, 'type': u...</td>\n",
       "      <td>[{'pos': 'ADV', 'index': 1, 'content': 'Then',...</td>\n",
       "    </tr>\n",
       "  </tbody>\n",
       "</table>\n",
       "</div>"
      ],
      "text/plain": [
       "           speaker                                           dialogue  \\\n",
       "0         narrator           1989 – Hank Pym enters a SHIELD facility   \n",
       "1     Dr. Hank Pym                                             Stark.   \n",
       "2  Mitchell Carson                             He doesn't seem happy.   \n",
       "3     Howard Stark      Hello, Hank. You're supposed to be in Moscow.   \n",
       "4     Dr. Hank Pym  I took a detour.[he places a vial containing a...   \n",
       "5     Peggy Carter             Tell me that isn't what I think it is.   \n",
       "6     Dr. Hank Pym  It depends, if you think it's a poor attempt t...   \n",
       "7  Mitchell Carson  You were instructed to go to Russia. May I rem...   \n",
       "8     Dr. Hank Pym                                   I'm a scientist.   \n",
       "9     Howard Stark  Then act like one. The Pym Particle is the mos...   \n",
       "\n",
       "                                           sentences  \\\n",
       "0  [{'content': u'1989 \\u2013 Hank Pym enters a S...   \n",
       "1  [{'content': u'Stark.', 'begin': 0, 'score': 0...   \n",
       "2  [{'content': u\"He doesn't seem happy.\", 'begin...   \n",
       "3  [{'content': u'Hello, Hank.', 'begin': 0, 'sco...   \n",
       "4  [{'content': u'I took a detour.[he places a vi...   \n",
       "5  [{'content': u\"Tell me that isn't what I think...   \n",
       "6  [{'content': u\"It depends, if you think it's a...   \n",
       "7  [{'content': u'You were instructed to go to Ru...   \n",
       "8  [{'content': u\"I'm a scientist.\", 'begin': 0, ...   \n",
       "9  [{'content': u'Then act like one.', 'begin': 0...   \n",
       "\n",
       "                           sentiment  \\\n",
       "0   {'magnitude': 0.3, 'score': 0.3}   \n",
       "1   {'magnitude': 0.1, 'score': 0.1}   \n",
       "2  {'magnitude': 0.6, 'score': -0.6}   \n",
       "3    {'magnitude': 1, 'score': -0.1}   \n",
       "4   {'magnitude': 0.4, 'score': 0.4}   \n",
       "5  {'magnitude': 0.6, 'score': -0.6}   \n",
       "6    {'magnitude': 1, 'score': -0.5}   \n",
       "7     {'magnitude': 0.7, 'score': 0}   \n",
       "8   {'magnitude': 0.3, 'score': 0.3}   \n",
       "9   {'magnitude': 1.2, 'score': 0.1}   \n",
       "\n",
       "                                            entities  \\\n",
       "0  [{'salience': 0.5188706, 'meta': {}, 'type': u...   \n",
       "1  [{'salience': 1, 'meta': {}, 'type': u'WORK_OF...   \n",
       "2                                                 []   \n",
       "3  [{'salience': 0.80661523, 'meta': {}, 'type': ...   \n",
       "4  [{'salience': 0.34197578, 'meta': {}, 'type': ...   \n",
       "5                                                 []   \n",
       "6  [{'salience': 0.88545346, 'meta': {}, 'type': ...   \n",
       "7  [{'salience': 0.87446207, 'meta': {}, 'type': ...   \n",
       "8  [{'salience': 1, 'meta': {}, 'type': u'PERSON'...   \n",
       "9  [{'salience': 0.6887065, 'meta': {}, 'type': u...   \n",
       "\n",
       "                                              tokens  \n",
       "0  [{'pos': 'NUM', 'index': 0, 'content': '1989',...  \n",
       "1  [{'pos': 'NOUN', 'index': 0, 'content': 'Stark...  \n",
       "2  [{'pos': 'PRON', 'index': 3, 'content': 'He', ...  \n",
       "3  [{'pos': 'X', 'index': 2, 'content': 'Hello', ...  \n",
       "4  [{'pos': 'PRON', 'index': 1, 'content': 'I', '...  \n",
       "5  [{'pos': 'VERB', 'index': 0, 'content': 'Tell'...  \n",
       "6  [{'pos': 'PRON', 'index': 1, 'content': 'It', ...  \n",
       "7  [{'pos': 'PRON', 'index': 2, 'content': 'You',...  \n",
       "8  [{'pos': 'PRON', 'index': 1, 'content': 'I', '...  \n",
       "9  [{'pos': 'ADV', 'index': 1, 'content': 'Then',...  "
      ]
     },
     "execution_count": 19,
     "metadata": {},
     "output_type": "execute_result"
    }
   ],
   "source": [
    "files = [x for x in os.listdir('prep_scripts') if '_gapi' in x]\n",
    "df = pd.read_csv('prep_scripts/' + files[0])[['speaker', 'dialogue', 'sentences', 'sentiment', 'entities', 'tokens']]\n",
    "df['tokens'] = df['tokens'].apply(lambda x: eval(x))\n",
    "df['sentiment'] = df['sentiment'].apply(lambda x: eval(x))\n",
    "df.head(10)"
   ]
  },
  {
   "cell_type": "code",
   "execution_count": 31,
   "metadata": {
    "collapsed": false
   },
   "outputs": [
    {
     "data": {
      "text/html": [
       "<div>\n",
       "<table border=\"1\" class=\"dataframe\">\n",
       "  <thead>\n",
       "    <tr style=\"text-align: right;\">\n",
       "      <th></th>\n",
       "      <th>speaker</th>\n",
       "      <th>dialogue</th>\n",
       "      <th>sentences</th>\n",
       "      <th>sentiment</th>\n",
       "      <th>entities</th>\n",
       "      <th>tokens</th>\n",
       "      <th>total_sent</th>\n",
       "    </tr>\n",
       "  </thead>\n",
       "  <tbody>\n",
       "    <tr>\n",
       "      <th>0</th>\n",
       "      <td>NaN</td>\n",
       "      <td>NaN</td>\n",
       "      <td>NaN</td>\n",
       "      <td>NaN</td>\n",
       "      <td>NaN</td>\n",
       "      <td>NaN</td>\n",
       "      <td>NaN</td>\n",
       "    </tr>\n",
       "    <tr>\n",
       "      <th>1</th>\n",
       "      <td>narrator</td>\n",
       "      <td>1989 – Hank Pym enters a SHIELD facility</td>\n",
       "      <td>[{'content': u'1989 \\u2013 Hank Pym enters a S...</td>\n",
       "      <td>{'magnitude': 0.3, 'score': 0.3}</td>\n",
       "      <td>[{'salience': 0.5188706, 'meta': {}, 'type': u...</td>\n",
       "      <td>[{'pos': 'NUM', 'index': 0, 'content': '1989',...</td>\n",
       "      <td>0.09</td>\n",
       "    </tr>\n",
       "    <tr>\n",
       "      <th>2</th>\n",
       "      <td>Dr. Hank Pym</td>\n",
       "      <td>Stark.</td>\n",
       "      <td>[{'content': u'Stark.', 'begin': 0, 'score': 0...</td>\n",
       "      <td>{'magnitude': 0.1, 'score': 0.1}</td>\n",
       "      <td>[{'salience': 1, 'meta': {}, 'type': u'WORK_OF...</td>\n",
       "      <td>[{'pos': 'NOUN', 'index': 0, 'content': 'Stark...</td>\n",
       "      <td>0.01</td>\n",
       "    </tr>\n",
       "    <tr>\n",
       "      <th>3</th>\n",
       "      <td>Mitchell Carson</td>\n",
       "      <td>He doesn't seem happy.</td>\n",
       "      <td>[{'content': u\"He doesn't seem happy.\", 'begin...</td>\n",
       "      <td>{'magnitude': 0.6, 'score': -0.6}</td>\n",
       "      <td>[]</td>\n",
       "      <td>[{'pos': 'PRON', 'index': 3, 'content': 'He', ...</td>\n",
       "      <td>-0.36</td>\n",
       "    </tr>\n",
       "    <tr>\n",
       "      <th>4</th>\n",
       "      <td>Howard Stark</td>\n",
       "      <td>Hello, Hank. You're supposed to be in Moscow.</td>\n",
       "      <td>[{'content': u'Hello, Hank.', 'begin': 0, 'sco...</td>\n",
       "      <td>{'magnitude': 1, 'score': -0.1}</td>\n",
       "      <td>[{'salience': 0.80661523, 'meta': {}, 'type': ...</td>\n",
       "      <td>[{'pos': 'X', 'index': 2, 'content': 'Hello', ...</td>\n",
       "      <td>-0.10</td>\n",
       "    </tr>\n",
       "  </tbody>\n",
       "</table>\n",
       "</div>"
      ],
      "text/plain": [
       "           speaker                                       dialogue  \\\n",
       "0              NaN                                            NaN   \n",
       "1         narrator       1989 – Hank Pym enters a SHIELD facility   \n",
       "2     Dr. Hank Pym                                         Stark.   \n",
       "3  Mitchell Carson                         He doesn't seem happy.   \n",
       "4     Howard Stark  Hello, Hank. You're supposed to be in Moscow.   \n",
       "\n",
       "                                           sentences  \\\n",
       "0                                                NaN   \n",
       "1  [{'content': u'1989 \\u2013 Hank Pym enters a S...   \n",
       "2  [{'content': u'Stark.', 'begin': 0, 'score': 0...   \n",
       "3  [{'content': u\"He doesn't seem happy.\", 'begin...   \n",
       "4  [{'content': u'Hello, Hank.', 'begin': 0, 'sco...   \n",
       "\n",
       "                           sentiment  \\\n",
       "0                                NaN   \n",
       "1   {'magnitude': 0.3, 'score': 0.3}   \n",
       "2   {'magnitude': 0.1, 'score': 0.1}   \n",
       "3  {'magnitude': 0.6, 'score': -0.6}   \n",
       "4    {'magnitude': 1, 'score': -0.1}   \n",
       "\n",
       "                                            entities  \\\n",
       "0                                                NaN   \n",
       "1  [{'salience': 0.5188706, 'meta': {}, 'type': u...   \n",
       "2  [{'salience': 1, 'meta': {}, 'type': u'WORK_OF...   \n",
       "3                                                 []   \n",
       "4  [{'salience': 0.80661523, 'meta': {}, 'type': ...   \n",
       "\n",
       "                                              tokens  total_sent  \n",
       "0                                                NaN         NaN  \n",
       "1  [{'pos': 'NUM', 'index': 0, 'content': '1989',...        0.09  \n",
       "2  [{'pos': 'NOUN', 'index': 0, 'content': 'Stark...        0.01  \n",
       "3  [{'pos': 'PRON', 'index': 3, 'content': 'He', ...       -0.36  \n",
       "4  [{'pos': 'X', 'index': 2, 'content': 'Hello', ...       -0.10  "
      ]
     },
     "execution_count": 31,
     "metadata": {},
     "output_type": "execute_result"
    }
   ],
   "source": [
    "cList = list(df.speaker.unique())\n",
    "df['total_sent'] = df['sentiment'].apply(lambda x: x['score'] * x['magnitude'])\n",
    "cDict = dict(df.groupby('speaker').total_sent.sum())\n",
    "df.shift().head()"
   ]
  },
  {
   "cell_type": "code",
   "execution_count": 84,
   "metadata": {
    "collapsed": false
   },
   "outputs": [
    {
     "data": {
      "text/plain": [
       "speaker                                            Dr. Hank Pym\n",
       "dialogue                    She doesn't think that we need you.\n",
       "sentences     [{'content': u\"She doesn't think that we need ...\n",
       "sentiment                          {'magnitude': 0, 'score': 0}\n",
       "entities                                                     []\n",
       "tokens        [{'char': ['Ice Cream Store Customer'], 'pos':...\n",
       "total_sent                                                    0\n",
       "hasChar                                                    True\n",
       "Name: 436, dtype: object"
      ]
     },
     "execution_count": 84,
     "metadata": {},
     "output_type": "execute_result"
    }
   ],
   "source": [
    "df.loc[436]"
   ]
  },
  {
   "cell_type": "code",
   "execution_count": 105,
   "metadata": {
    "collapsed": false,
    "scrolled": false
   },
   "outputs": [
    {
     "name": "stdout",
     "output_type": "stream",
     "text": [
      "*******for the following dialogue********\n",
      "Dr. Hank Pym: You think I don't want to? I can't. I spent years wearing it. It took a toll on me. You're our only option. Before Hope lost her mother, she used to look at me like I was the greatest man in the world. And now she looks at me and it's just disappointment. It's too late for me, but not for you. This is your chance. The chance to earn that look in your daughter's eyes, to become the hero that she already thinks you are. It's not about saving our world, it's about saving theirs.\n",
      "Scott Lang: Damn, that was a good speech.\n",
      "=>Dr. Hank Pym: Scott, I need you to be the Ant-Man.<=\n",
      "narrator: we see Scott wearing the Ant-Man suit with Pym and Hope training him\n",
      "Dr. Hank Pym: In the right hands, the relationship between man and suit is symbiotic. The suit has power, the man harnesses that power. You need to be skillful, agile, and above all, you need to be fast. You should be able to shrink and grow on a dime, so your size always suits your needs. [Hope closes the door] Now dive through the keyhole, Scott. You charge big, you dive small, then you emerge big. [Scott puts on the helmet and charges for the keyhole]\n",
      "********************\n",
      "2 pronouns resolved\n",
      "1. I => ['Carson']\n",
      "2. you => ['Cab Driver']\n",
      "how many are correctly identified?a\n",
      "incorrect input, only numbers allowed\n",
      "how many are correctly identified?1\n",
      "*******for the following dialogue********\n",
      "narrator: Scott quickly uses several household items to get a fingerprint from a door knob and uses that to successfully pass the thumbprint scanner\n",
      "Scott Lang: I'm in.\n",
      "=>Kurt: No alarms have been triggered. He's in like the Flynn.<=\n",
      "narrator: Scott opens the door and immediately sees the safe made of strong metal\n",
      "Scott Lang: Oh, man.\n",
      "********************\n",
      "1 pronouns resolved\n",
      "1. He => ['Steve Rogers']\n",
      "how many are correctly identified?0\n",
      "*******for the following dialogue********\n",
      "narrator: Cassie comes back\n",
      "Cassie Lang: Mommy's so happy you're here, she choked on her drink.\n",
      "=>Scott Lang: Hey, look what I have for you.<=\n",
      "narrator: he hands her the small bag he'd brought\n",
      "Cassie Lang: Can I open it now?\n",
      "********************\n",
      "3 pronouns resolved\n",
      "1. what => ['Howard Stark']\n",
      "2. I => ['Pym Tech Gate Guard']\n",
      "3. you => ['Scott']\n",
      "how many are correctly identified?2\n",
      "*******for the following dialogue********\n",
      "Scott Lang: Hey, look what I have for you.\n",
      "narrator: he hands her the small bag he'd brought\n",
      "=>Cassie Lang: Can I open it now?<=\n",
      "Paxton: Of course sweetheart, it's your birthday.\n",
      "narrator: she takes out an ugly looking rabbit which talks\n",
      "********************\n",
      "2 pronouns resolved\n",
      "1. I => ['Sam Wilson']\n",
      "2. it => ['Sam Wilson']\n",
      "how many are correctly identified?1\n",
      "********************\n",
      "model 1 precision: 0.5\n",
      "model 2 precision: 0.5\n"
     ]
    }
   ],
   "source": [
    "pronEval([df, df], num=2)"
   ]
  },
  {
   "cell_type": "code",
   "execution_count": 73,
   "metadata": {
    "collapsed": false
   },
   "outputs": [
    {
     "data": {
      "text/html": [
       "<div>\n",
       "<table border=\"1\" class=\"dataframe\">\n",
       "  <thead>\n",
       "    <tr style=\"text-align: right;\">\n",
       "      <th></th>\n",
       "      <th>speaker</th>\n",
       "      <th>dialogue</th>\n",
       "      <th>sentences</th>\n",
       "      <th>sentiment</th>\n",
       "      <th>entities</th>\n",
       "      <th>tokens</th>\n",
       "      <th>total_sent</th>\n",
       "      <th>hasChar</th>\n",
       "    </tr>\n",
       "  </thead>\n",
       "  <tbody>\n",
       "    <tr>\n",
       "      <th>0</th>\n",
       "      <td>narrator</td>\n",
       "      <td>1989 – Hank Pym enters a SHIELD facility</td>\n",
       "      <td>[{'content': u'1989 \\u2013 Hank Pym enters a S...</td>\n",
       "      <td>{'magnitude': 0.3, 'score': 0.3}</td>\n",
       "      <td>[{'salience': 0.5188706, 'meta': {}, 'type': u...</td>\n",
       "      <td>[{'pos': 'NUM', 'index': 0, 'content': '1989',...</td>\n",
       "      <td>0.09</td>\n",
       "      <td>False</td>\n",
       "    </tr>\n",
       "    <tr>\n",
       "      <th>1</th>\n",
       "      <td>Dr. Hank Pym</td>\n",
       "      <td>Stark.</td>\n",
       "      <td>[{'content': u'Stark.', 'begin': 0, 'score': 0...</td>\n",
       "      <td>{'magnitude': 0.1, 'score': 0.1}</td>\n",
       "      <td>[{'salience': 1, 'meta': {}, 'type': u'WORK_OF...</td>\n",
       "      <td>[{'pos': 'NOUN', 'index': 0, 'content': 'Stark...</td>\n",
       "      <td>0.01</td>\n",
       "      <td>False</td>\n",
       "    </tr>\n",
       "    <tr>\n",
       "      <th>2</th>\n",
       "      <td>Mitchell Carson</td>\n",
       "      <td>He doesn't seem happy.</td>\n",
       "      <td>[{'content': u\"He doesn't seem happy.\", 'begin...</td>\n",
       "      <td>{'magnitude': 0.6, 'score': -0.6}</td>\n",
       "      <td>[]</td>\n",
       "      <td>[{'char': ['Police Radio'], 'pos': 'PRON', 'in...</td>\n",
       "      <td>-0.36</td>\n",
       "      <td>True</td>\n",
       "    </tr>\n",
       "    <tr>\n",
       "      <th>3</th>\n",
       "      <td>Howard Stark</td>\n",
       "      <td>Hello, Hank. You're supposed to be in Moscow.</td>\n",
       "      <td>[{'content': u'Hello, Hank.', 'begin': 0, 'sco...</td>\n",
       "      <td>{'magnitude': 1, 'score': -0.1}</td>\n",
       "      <td>[{'salience': 0.80661523, 'meta': {}, 'type': ...</td>\n",
       "      <td>[{'pos': 'X', 'index': 2, 'content': 'Hello', ...</td>\n",
       "      <td>-0.10</td>\n",
       "      <td>True</td>\n",
       "    </tr>\n",
       "    <tr>\n",
       "      <th>4</th>\n",
       "      <td>Dr. Hank Pym</td>\n",
       "      <td>I took a detour.[he places a vial containing a...</td>\n",
       "      <td>[{'content': u'I took a detour.[he places a vi...</td>\n",
       "      <td>{'magnitude': 0.4, 'score': 0.4}</td>\n",
       "      <td>[{'salience': 0.34197578, 'meta': {}, 'type': ...</td>\n",
       "      <td>[{'char': ['Pym Tech Security Guard'], 'pos': ...</td>\n",
       "      <td>0.16</td>\n",
       "      <td>True</td>\n",
       "    </tr>\n",
       "  </tbody>\n",
       "</table>\n",
       "</div>"
      ],
      "text/plain": [
       "           speaker                                           dialogue  \\\n",
       "0         narrator           1989 – Hank Pym enters a SHIELD facility   \n",
       "1     Dr. Hank Pym                                             Stark.   \n",
       "2  Mitchell Carson                             He doesn't seem happy.   \n",
       "3     Howard Stark      Hello, Hank. You're supposed to be in Moscow.   \n",
       "4     Dr. Hank Pym  I took a detour.[he places a vial containing a...   \n",
       "\n",
       "                                           sentences  \\\n",
       "0  [{'content': u'1989 \\u2013 Hank Pym enters a S...   \n",
       "1  [{'content': u'Stark.', 'begin': 0, 'score': 0...   \n",
       "2  [{'content': u\"He doesn't seem happy.\", 'begin...   \n",
       "3  [{'content': u'Hello, Hank.', 'begin': 0, 'sco...   \n",
       "4  [{'content': u'I took a detour.[he places a vi...   \n",
       "\n",
       "                           sentiment  \\\n",
       "0   {'magnitude': 0.3, 'score': 0.3}   \n",
       "1   {'magnitude': 0.1, 'score': 0.1}   \n",
       "2  {'magnitude': 0.6, 'score': -0.6}   \n",
       "3    {'magnitude': 1, 'score': -0.1}   \n",
       "4   {'magnitude': 0.4, 'score': 0.4}   \n",
       "\n",
       "                                            entities  \\\n",
       "0  [{'salience': 0.5188706, 'meta': {}, 'type': u...   \n",
       "1  [{'salience': 1, 'meta': {}, 'type': u'WORK_OF...   \n",
       "2                                                 []   \n",
       "3  [{'salience': 0.80661523, 'meta': {}, 'type': ...   \n",
       "4  [{'salience': 0.34197578, 'meta': {}, 'type': ...   \n",
       "\n",
       "                                              tokens  total_sent hasChar  \n",
       "0  [{'pos': 'NUM', 'index': 0, 'content': '1989',...        0.09   False  \n",
       "1  [{'pos': 'NOUN', 'index': 0, 'content': 'Stark...        0.01   False  \n",
       "2  [{'char': ['Police Radio'], 'pos': 'PRON', 'in...       -0.36    True  \n",
       "3  [{'pos': 'X', 'index': 2, 'content': 'Hello', ...       -0.10    True  \n",
       "4  [{'char': ['Pym Tech Security Guard'], 'pos': ...        0.16    True  "
      ]
     },
     "execution_count": 73,
     "metadata": {},
     "output_type": "execute_result"
    }
   ],
   "source": [
    "df['tokens'], df['hasChar'] = zip(*df.apply(lambda x:pronResolution_base(cList, x), axis=1).values)\n",
    "df.head()"
   ]
  },
  {
   "cell_type": "code",
   "execution_count": 35,
   "metadata": {
    "collapsed": false
   },
   "outputs": [],
   "source": [
    "df['relations'] = df.tokens.apply(lambda x:simpleRE(x))"
   ]
  },
  {
   "cell_type": "code",
   "execution_count": 37,
   "metadata": {
    "collapsed": false
   },
   "outputs": [
    {
     "data": {
      "text/plain": [
       "[{'noun': 'narrator', 'obj': 'detour.', 'verb': 'took'},\n",
       " {'noun': 'narrator', 'obj': 'vial', 'verb': 'places'}]"
      ]
     },
     "execution_count": 37,
     "metadata": {},
     "output_type": "execute_result"
    }
   ],
   "source": [
    "df[df.relations.notnull()].head().relations.values[1]"
   ]
  },
  {
   "cell_type": "code",
   "execution_count": 27,
   "metadata": {
    "collapsed": false,
    "scrolled": true
   },
   "outputs": [
    {
     "name": "stdout",
     "output_type": "stream",
     "text": [
      "{'begin': 12, 'lemma': 'Pym', 'label': 'NSUBJ', 'index': 4, 'pos': 'NOUN', 'content': 'Pym'}\n",
      "{'begin': 0, 'lemma': 'I', 'label': 'NSUBJ', 'index': 1, 'pos': 'PRON', 'char': 'narrator', 'content': 'I'}\n",
      "{'begin': 17, 'lemma': 'he', 'label': 'NSUBJ', 'index': 6, 'pos': 'PRON', 'char': 'narrator', 'content': 'he'}\n"
     ]
    },
    {
     "data": {
      "text/plain": [
       "0    [{'obj': 'facility', 'verb': 'enters', 'noun':...\n",
       "1                                                 None\n",
       "2                                                 None\n",
       "3                                                 None\n",
       "4    [{'obj': 'detour.', 'verb': 'took', 'noun': 'n...\n",
       "Name: tokens, dtype: object"
      ]
     },
     "execution_count": 27,
     "metadata": {},
     "output_type": "execute_result"
    }
   ],
   "source": [
    "df.head().tokens.apply(lambda x:simpleRE(x))"
   ]
  }
 ],
 "metadata": {
  "kernelspec": {
   "display_name": "Python [default]",
   "language": "python",
   "name": "python3"
  },
  "language_info": {
   "codemirror_mode": {
    "name": "ipython",
    "version": 3
   },
   "file_extension": ".py",
   "mimetype": "text/x-python",
   "name": "python",
   "nbconvert_exporter": "python",
   "pygments_lexer": "ipython3",
   "version": "3.5.2"
  }
 },
 "nbformat": 4,
 "nbformat_minor": 2
}
