{
 "cells": [
  {
   "cell_type": "code",
   "execution_count": 32,
   "metadata": {
    "collapsed": false
   },
   "outputs": [
    {
     "name": "stdout",
     "output_type": "stream",
     "text": [
      "The autoreload extension is already loaded. To reload it, use:\n",
      "  %reload_ext autoreload\n"
     ]
    }
   ],
   "source": [
    "%load_ext autoreload\n",
    "%autoreload 2\n",
    "\n",
    "import re\n",
    "import nltk\n",
    "import numpy as np\n",
    "import pandas as pd\n",
    "import os\n",
    "from pronoun import pronResolution\n",
    "from relationExtract import simpleRE"
   ]
  },
  {
   "cell_type": "code",
   "execution_count": 33,
   "metadata": {
    "collapsed": false
   },
   "outputs": [
    {
     "data": {
      "text/html": [
       "<div>\n",
       "<table border=\"1\" class=\"dataframe\">\n",
       "  <thead>\n",
       "    <tr style=\"text-align: right;\">\n",
       "      <th></th>\n",
       "      <th>speaker</th>\n",
       "      <th>dialogue</th>\n",
       "      <th>sentences</th>\n",
       "      <th>sentiment</th>\n",
       "      <th>entities</th>\n",
       "      <th>tokens</th>\n",
       "    </tr>\n",
       "  </thead>\n",
       "  <tbody>\n",
       "    <tr>\n",
       "      <th>0</th>\n",
       "      <td>narrator</td>\n",
       "      <td>1989 – Hank Pym enters a SHIELD facility</td>\n",
       "      <td>[{'content': u'1989 \\u2013 Hank Pym enters a S...</td>\n",
       "      <td>{'score': 0.3, 'magnitude': 0.3}</td>\n",
       "      <td>[{'salience': 0.5188706, 'meta': {}, 'type': u...</td>\n",
       "      <td>[{'begin': 0, 'lemma': '1989', 'label': 'ROOT'...</td>\n",
       "    </tr>\n",
       "    <tr>\n",
       "      <th>1</th>\n",
       "      <td>Dr. Hank Pym</td>\n",
       "      <td>Stark.</td>\n",
       "      <td>[{'content': u'Stark.', 'begin': 0, 'score': 0...</td>\n",
       "      <td>{'score': 0.1, 'magnitude': 0.1}</td>\n",
       "      <td>[{'salience': 1, 'meta': {}, 'type': u'WORK_OF...</td>\n",
       "      <td>[{'begin': 0, 'lemma': 'Stark', 'label': 'ROOT...</td>\n",
       "    </tr>\n",
       "    <tr>\n",
       "      <th>2</th>\n",
       "      <td>Mitchell Carson</td>\n",
       "      <td>He doesn't seem happy.</td>\n",
       "      <td>[{'content': u\"He doesn't seem happy.\", 'begin...</td>\n",
       "      <td>{'score': -0.6, 'magnitude': 0.6}</td>\n",
       "      <td>[]</td>\n",
       "      <td>[{'begin': 0, 'lemma': 'He', 'label': 'NSUBJ',...</td>\n",
       "    </tr>\n",
       "    <tr>\n",
       "      <th>3</th>\n",
       "      <td>Howard Stark</td>\n",
       "      <td>Hello, Hank. You're supposed to be in Moscow.</td>\n",
       "      <td>[{'content': u'Hello, Hank.', 'begin': 0, 'sco...</td>\n",
       "      <td>{'score': -0.1, 'magnitude': 1}</td>\n",
       "      <td>[{'salience': 0.80661523, 'meta': {}, 'type': ...</td>\n",
       "      <td>[{'begin': 0, 'lemma': 'Hello', 'label': 'DISC...</td>\n",
       "    </tr>\n",
       "    <tr>\n",
       "      <th>4</th>\n",
       "      <td>Dr. Hank Pym</td>\n",
       "      <td>I took a detour.[he places a vial containing a...</td>\n",
       "      <td>[{'content': u'I took a detour.[he places a vi...</td>\n",
       "      <td>{'score': 0.4, 'magnitude': 0.4}</td>\n",
       "      <td>[{'salience': 0.34197578, 'meta': {}, 'type': ...</td>\n",
       "      <td>[{'begin': 0, 'lemma': 'I', 'label': 'NSUBJ', ...</td>\n",
       "    </tr>\n",
       "    <tr>\n",
       "      <th>5</th>\n",
       "      <td>Peggy Carter</td>\n",
       "      <td>Tell me that isn't what I think it is.</td>\n",
       "      <td>[{'content': u\"Tell me that isn't what I think...</td>\n",
       "      <td>{'score': -0.6, 'magnitude': 0.6}</td>\n",
       "      <td>[]</td>\n",
       "      <td>[{'begin': 0, 'lemma': 'Tell', 'label': 'ROOT'...</td>\n",
       "    </tr>\n",
       "    <tr>\n",
       "      <th>6</th>\n",
       "      <td>Dr. Hank Pym</td>\n",
       "      <td>It depends, if you think it's a poor attempt t...</td>\n",
       "      <td>[{'content': u\"It depends, if you think it's a...</td>\n",
       "      <td>{'score': -0.5, 'magnitude': 1}</td>\n",
       "      <td>[{'salience': 0.88545346, 'meta': {}, 'type': ...</td>\n",
       "      <td>[{'begin': 0, 'lemma': 'It', 'label': 'NSUBJ',...</td>\n",
       "    </tr>\n",
       "    <tr>\n",
       "      <th>7</th>\n",
       "      <td>Mitchell Carson</td>\n",
       "      <td>You were instructed to go to Russia. May I rem...</td>\n",
       "      <td>[{'content': u'You were instructed to go to Ru...</td>\n",
       "      <td>{'score': 0, 'magnitude': 0.7}</td>\n",
       "      <td>[{'salience': 0.87446207, 'meta': {}, 'type': ...</td>\n",
       "      <td>[{'begin': 0, 'lemma': 'You', 'label': 'NSUBJP...</td>\n",
       "    </tr>\n",
       "    <tr>\n",
       "      <th>8</th>\n",
       "      <td>Dr. Hank Pym</td>\n",
       "      <td>I'm a scientist.</td>\n",
       "      <td>[{'content': u\"I'm a scientist.\", 'begin': 0, ...</td>\n",
       "      <td>{'score': 0.3, 'magnitude': 0.3}</td>\n",
       "      <td>[{'salience': 1, 'meta': {}, 'type': u'PERSON'...</td>\n",
       "      <td>[{'begin': 0, 'lemma': 'I', 'label': 'NSUBJ', ...</td>\n",
       "    </tr>\n",
       "    <tr>\n",
       "      <th>9</th>\n",
       "      <td>Howard Stark</td>\n",
       "      <td>Then act like one. The Pym Particle is the mos...</td>\n",
       "      <td>[{'content': u'Then act like one.', 'begin': 0...</td>\n",
       "      <td>{'score': 0.1, 'magnitude': 1.2}</td>\n",
       "      <td>[{'salience': 0.6887065, 'meta': {}, 'type': u...</td>\n",
       "      <td>[{'begin': 0, 'lemma': 'Then', 'label': 'ADVMO...</td>\n",
       "    </tr>\n",
       "  </tbody>\n",
       "</table>\n",
       "</div>"
      ],
      "text/plain": [
       "           speaker                                           dialogue  \\\n",
       "0         narrator           1989 – Hank Pym enters a SHIELD facility   \n",
       "1     Dr. Hank Pym                                             Stark.   \n",
       "2  Mitchell Carson                             He doesn't seem happy.   \n",
       "3     Howard Stark      Hello, Hank. You're supposed to be in Moscow.   \n",
       "4     Dr. Hank Pym  I took a detour.[he places a vial containing a...   \n",
       "5     Peggy Carter             Tell me that isn't what I think it is.   \n",
       "6     Dr. Hank Pym  It depends, if you think it's a poor attempt t...   \n",
       "7  Mitchell Carson  You were instructed to go to Russia. May I rem...   \n",
       "8     Dr. Hank Pym                                   I'm a scientist.   \n",
       "9     Howard Stark  Then act like one. The Pym Particle is the mos...   \n",
       "\n",
       "                                           sentences  \\\n",
       "0  [{'content': u'1989 \\u2013 Hank Pym enters a S...   \n",
       "1  [{'content': u'Stark.', 'begin': 0, 'score': 0...   \n",
       "2  [{'content': u\"He doesn't seem happy.\", 'begin...   \n",
       "3  [{'content': u'Hello, Hank.', 'begin': 0, 'sco...   \n",
       "4  [{'content': u'I took a detour.[he places a vi...   \n",
       "5  [{'content': u\"Tell me that isn't what I think...   \n",
       "6  [{'content': u\"It depends, if you think it's a...   \n",
       "7  [{'content': u'You were instructed to go to Ru...   \n",
       "8  [{'content': u\"I'm a scientist.\", 'begin': 0, ...   \n",
       "9  [{'content': u'Then act like one.', 'begin': 0...   \n",
       "\n",
       "                           sentiment  \\\n",
       "0   {'score': 0.3, 'magnitude': 0.3}   \n",
       "1   {'score': 0.1, 'magnitude': 0.1}   \n",
       "2  {'score': -0.6, 'magnitude': 0.6}   \n",
       "3    {'score': -0.1, 'magnitude': 1}   \n",
       "4   {'score': 0.4, 'magnitude': 0.4}   \n",
       "5  {'score': -0.6, 'magnitude': 0.6}   \n",
       "6    {'score': -0.5, 'magnitude': 1}   \n",
       "7     {'score': 0, 'magnitude': 0.7}   \n",
       "8   {'score': 0.3, 'magnitude': 0.3}   \n",
       "9   {'score': 0.1, 'magnitude': 1.2}   \n",
       "\n",
       "                                            entities  \\\n",
       "0  [{'salience': 0.5188706, 'meta': {}, 'type': u...   \n",
       "1  [{'salience': 1, 'meta': {}, 'type': u'WORK_OF...   \n",
       "2                                                 []   \n",
       "3  [{'salience': 0.80661523, 'meta': {}, 'type': ...   \n",
       "4  [{'salience': 0.34197578, 'meta': {}, 'type': ...   \n",
       "5                                                 []   \n",
       "6  [{'salience': 0.88545346, 'meta': {}, 'type': ...   \n",
       "7  [{'salience': 0.87446207, 'meta': {}, 'type': ...   \n",
       "8  [{'salience': 1, 'meta': {}, 'type': u'PERSON'...   \n",
       "9  [{'salience': 0.6887065, 'meta': {}, 'type': u...   \n",
       "\n",
       "                                              tokens  \n",
       "0  [{'begin': 0, 'lemma': '1989', 'label': 'ROOT'...  \n",
       "1  [{'begin': 0, 'lemma': 'Stark', 'label': 'ROOT...  \n",
       "2  [{'begin': 0, 'lemma': 'He', 'label': 'NSUBJ',...  \n",
       "3  [{'begin': 0, 'lemma': 'Hello', 'label': 'DISC...  \n",
       "4  [{'begin': 0, 'lemma': 'I', 'label': 'NSUBJ', ...  \n",
       "5  [{'begin': 0, 'lemma': 'Tell', 'label': 'ROOT'...  \n",
       "6  [{'begin': 0, 'lemma': 'It', 'label': 'NSUBJ',...  \n",
       "7  [{'begin': 0, 'lemma': 'You', 'label': 'NSUBJP...  \n",
       "8  [{'begin': 0, 'lemma': 'I', 'label': 'NSUBJ', ...  \n",
       "9  [{'begin': 0, 'lemma': 'Then', 'label': 'ADVMO...  "
      ]
     },
     "execution_count": 33,
     "metadata": {},
     "output_type": "execute_result"
    }
   ],
   "source": [
    "files = [x for x in os.listdir('prep_scripts') if '_gapi' in x]\n",
    "df = pd.read_csv('prep_scripts/' + files[0])[['speaker', 'dialogue', 'sentences', 'sentiment', 'entities', 'tokens']]\n",
    "df['tokens'] = df['tokens'].apply(lambda x: eval(x))\n",
    "df.head(10)"
   ]
  },
  {
   "cell_type": "code",
   "execution_count": 4,
   "metadata": {
    "collapsed": false
   },
   "outputs": [],
   "source": [
    "cList = list(df.speaker.unique())\n"
   ]
  },
  {
   "cell_type": "code",
   "execution_count": 34,
   "metadata": {
    "collapsed": false
   },
   "outputs": [],
   "source": [
    "df['tokens'] = df.tokens.apply(lambda x:pronResolution(cList, x))"
   ]
  },
  {
   "cell_type": "code",
   "execution_count": 35,
   "metadata": {
    "collapsed": false
   },
   "outputs": [],
   "source": [
    "df['relations'] = df.tokens.apply(lambda x:simpleRE(x))"
   ]
  },
  {
   "cell_type": "code",
   "execution_count": 37,
   "metadata": {
    "collapsed": false
   },
   "outputs": [
    {
     "data": {
      "text/plain": [
       "[{'noun': 'narrator', 'obj': 'detour.', 'verb': 'took'},\n",
       " {'noun': 'narrator', 'obj': 'vial', 'verb': 'places'}]"
      ]
     },
     "execution_count": 37,
     "metadata": {},
     "output_type": "execute_result"
    }
   ],
   "source": [
    "df[df.relations.notnull()].head().relations.values[1]"
   ]
  },
  {
   "cell_type": "code",
   "execution_count": 27,
   "metadata": {
    "collapsed": false,
    "scrolled": true
   },
   "outputs": [
    {
     "name": "stdout",
     "output_type": "stream",
     "text": [
      "{'begin': 12, 'lemma': 'Pym', 'label': 'NSUBJ', 'index': 4, 'pos': 'NOUN', 'content': 'Pym'}\n",
      "{'begin': 0, 'lemma': 'I', 'label': 'NSUBJ', 'index': 1, 'pos': 'PRON', 'char': 'narrator', 'content': 'I'}\n",
      "{'begin': 17, 'lemma': 'he', 'label': 'NSUBJ', 'index': 6, 'pos': 'PRON', 'char': 'narrator', 'content': 'he'}\n"
     ]
    },
    {
     "data": {
      "text/plain": [
       "0    [{'obj': 'facility', 'verb': 'enters', 'noun':...\n",
       "1                                                 None\n",
       "2                                                 None\n",
       "3                                                 None\n",
       "4    [{'obj': 'detour.', 'verb': 'took', 'noun': 'n...\n",
       "Name: tokens, dtype: object"
      ]
     },
     "execution_count": 27,
     "metadata": {},
     "output_type": "execute_result"
    }
   ],
   "source": [
    "df.head().tokens.apply(lambda x:simpleRE(x))"
   ]
  }
 ],
 "metadata": {
  "kernelspec": {
   "display_name": "Python [default]",
   "language": "python",
   "name": "python3"
  },
  "language_info": {
   "codemirror_mode": {
    "name": "ipython",
    "version": 3
   },
   "file_extension": ".py",
   "mimetype": "text/x-python",
   "name": "python",
   "nbconvert_exporter": "python",
   "pygments_lexer": "ipython3",
   "version": "3.5.2"
  }
 },
 "nbformat": 4,
 "nbformat_minor": 2
}
