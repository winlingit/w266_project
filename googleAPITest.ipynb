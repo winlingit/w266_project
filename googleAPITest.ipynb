{
 "cells": [
  {
   "cell_type": "code",
   "execution_count": 1,
   "metadata": {
    "collapsed": true
   },
   "outputs": [],
   "source": [
    "import re\n",
    "import nltk\n",
    "from google.cloud import language"
   ]
  },
  {
   "cell_type": "code",
   "execution_count": 2,
   "metadata": {
    "collapsed": true
   },
   "outputs": [],
   "source": [
    "language_client = language.Client()"
   ]
  },
  {
   "cell_type": "code",
   "execution_count": 3,
   "metadata": {
    "collapsed": true
   },
   "outputs": [],
   "source": [
    "text = \"Are you the guys from Washington? You get many other visitors out here? How long have you been on site? Since this morning. A Russian oil team called it in about eighteen hours ago. How come nobody spotted it before? It's really not that surprising. This landscape's changing all the time. You got any ideas what this thing is exactly? I don't know. It's probably a weather balloon. I don't think so. You know we don't have the equipment for a job like this. How long before we can start craning it out? I don't think you quite understand. You guys are gonna need one hell of a crane! [as the shot widens we see a massive frozen ship revealed]\\n[after breaking into the metal aircraft & finding the frozen shield of Captain America] Lieutenant! What is it? My God! [into his earpiece] Base, give me a line to the Colonel. It's three a.m. for him, sir. I don't care what time it is. This one's waited long enough.\"\n",
    "document = language_client.document_from_text(text)"
   ]
  },
  {
   "cell_type": "code",
   "execution_count": 5,
   "metadata": {
    "collapsed": false
   },
   "outputs": [],
   "source": [
    "syn = document.analyze_syntax().sentences"
   ]
  },
  {
   "cell_type": "code",
   "execution_count": 7,
   "metadata": {
    "collapsed": false
   },
   "outputs": [
    {
     "name": "stdout",
     "output_type": "stream",
     "text": [
      "Are you the guys from Washington?\n",
      "You get many other visitors out here?\n",
      "How long have you been on site?\n",
      "Since this morning.\n",
      "A Russian oil team called it in about eighteen hours ago.\n",
      "How come nobody spotted it before?\n",
      "It's really not that surprising.\n",
      "This landscape's changing all the time.\n",
      "You got any ideas what this thing is exactly?\n",
      "I don't know.\n",
      "It's probably a weather balloon.\n",
      "I don't think so.\n",
      "You know we don't have the equipment for a job like this.\n",
      "How long before we can start craning it out?\n",
      "I don't think you quite understand.\n",
      "You guys are gonna need one hell of a crane! [as the shot widens we see a massive frozen ship revealed]\n",
      "[after breaking into the metal aircraft & finding the frozen shield of Captain America] Lieutenant!\n",
      "What is it?\n",
      "My God!\n",
      "[into his earpiece] Base, give me a line to the Colonel.\n",
      "It's three a.m. for him, sir.\n",
      "I don't care what time it is.\n",
      "This one's waited long enough.\n"
     ]
    }
   ],
   "source": [
    "for sentence in syn:\n",
    "    print sentence.content"
   ]
  },
  {
   "cell_type": "code",
   "execution_count": 8,
   "metadata": {
    "collapsed": true
   },
   "outputs": [],
   "source": [
    "text = \"Are you the guys from Washington?\"\n",
    "document = language_client.document_from_text(text)"
   ]
  },
  {
   "cell_type": "code",
   "execution_count": 10,
   "metadata": {
    "collapsed": false
   },
   "outputs": [],
   "source": [
    "sen = document.analyze_sentiment().sentiment"
   ]
  },
  {
   "cell_type": "code",
   "execution_count": 13,
   "metadata": {
    "collapsed": false
   },
   "outputs": [
    {
     "name": "stdout",
     "output_type": "stream",
     "text": [
      "(-0.2, 0.2)\n"
     ]
    }
   ],
   "source": [
    "print(sen.score, sen.magnitude)"
   ]
  },
  {
   "cell_type": "code",
   "execution_count": 18,
   "metadata": {
    "collapsed": true
   },
   "outputs": [],
   "source": [
    "ents = document.analyze_entities().entities"
   ]
  },
  {
   "cell_type": "code",
   "execution_count": 19,
   "metadata": {
    "collapsed": false
   },
   "outputs": [
    {
     "name": "stdout",
     "output_type": "stream",
     "text": [
      "(u'guys', u'PERSON', {}, 0.8466744, [u'guys'])\n",
      "(u'Washington', u'LOCATION', {u'mid': u'/m/0rh6k', u'wikipedia_url': u'http://en.wikipedia.org/wiki/Washington,_D.C.'}, 0.1533256, [u'Washington'])\n"
     ]
    }
   ],
   "source": [
    "for ent in ents:\n",
    "    print(ent.name, ent.entity_type, ent.metadata, ent.salience, ent.mentions)"
   ]
  },
  {
   "cell_type": "code",
   "execution_count": null,
   "metadata": {
    "collapsed": true
   },
   "outputs": [],
   "source": []
  }
 ],
 "metadata": {
  "kernelspec": {
   "display_name": "Python [default]",
   "language": "python",
   "name": "python2"
  },
  "language_info": {
   "codemirror_mode": {
    "name": "ipython",
    "version": 2
   },
   "file_extension": ".py",
   "mimetype": "text/x-python",
   "name": "python",
   "nbconvert_exporter": "python",
   "pygments_lexer": "ipython2",
   "version": "2.7.13"
  }
 },
 "nbformat": 4,
 "nbformat_minor": 2
}
