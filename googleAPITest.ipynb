{
 "cells": [
  {
   "cell_type": "code",
   "execution_count": 7,
   "metadata": {
    "collapsed": false
   },
   "outputs": [],
   "source": [
    "import re\n",
    "import nltk\n",
    "from google.cloud import language"
   ]
  },
  {
   "cell_type": "code",
   "execution_count": 8,
   "metadata": {
    "collapsed": false
   },
   "outputs": [],
   "source": [
    "language_client = language.Client()"
   ]
  },
  {
   "cell_type": "code",
   "execution_count": 9,
   "metadata": {
    "collapsed": false
   },
   "outputs": [],
   "source": [
    "text = \"Are you the guys from Washington? You get many other visitors out here? How long have you been on site? Since this morning. A Russian oil team called it in about eighteen hours ago. How come nobody spotted it before? It's really not that surprising. This landscape's changing all the time. You got any ideas what this thing is exactly? I don't know. It's probably a weather balloon. I don't think so. You know we don't have the equipment for a job like this. How long before we can start craning it out? I don't think you quite understand. You guys are gonna need one hell of a crane! [as the shot widens we see a massive frozen ship revealed]\\n[after breaking into the metal aircraft & finding the frozen shield of Captain America] Lieutenant! What is it? My God! [into his earpiece] Base, give me a line to the Colonel. It's three a.m. for him, sir. I don't care what time it is. This one's waited long enough.\"\n",
    "document = language_client.document_from_text(text)"
   ]
  },
  {
   "cell_type": "code",
   "execution_count": 10,
   "metadata": {
    "collapsed": false
   },
   "outputs": [],
   "source": [
    "syn = document.analyze_syntax().sentences"
   ]
  },
  {
   "cell_type": "code",
   "execution_count": 11,
   "metadata": {
    "collapsed": false
   },
   "outputs": [
    {
     "name": "stdout",
     "output_type": "stream",
     "text": [
      "Are you the guys from Washington?\n",
      "You get many other visitors out here?\n",
      "How long have you been on site?\n",
      "Since this morning.\n",
      "A Russian oil team called it in about eighteen hours ago.\n",
      "How come nobody spotted it before?\n",
      "It's really not that surprising.\n",
      "This landscape's changing all the time.\n",
      "You got any ideas what this thing is exactly?\n",
      "I don't know.\n",
      "It's probably a weather balloon.\n",
      "I don't think so.\n",
      "You know we don't have the equipment for a job like this.\n",
      "How long before we can start craning it out?\n",
      "I don't think you quite understand.\n",
      "You guys are gonna need one hell of a crane! [as the shot widens we see a massive frozen ship revealed]\n",
      "[after breaking into the metal aircraft & finding the frozen shield of Captain America] Lieutenant!\n",
      "What is it?\n",
      "My God!\n",
      "[into his earpiece] Base, give me a line to the Colonel.\n",
      "It's three a.m. for him, sir.\n",
      "I don't care what time it is.\n",
      "This one's waited long enough.\n"
     ]
    }
   ],
   "source": [
    "for sentence in syn:\n",
    "    print sentence.content"
   ]
  },
  {
   "cell_type": "code",
   "execution_count": 12,
   "metadata": {
    "collapsed": false
   },
   "outputs": [],
   "source": [
    "text = \"Are you the guys from Washington?\"\n",
    "document = language_client.document_from_text(text)"
   ]
  },
  {
   "cell_type": "code",
   "execution_count": 13,
   "metadata": {
    "collapsed": false
   },
   "outputs": [],
   "source": [
    "sen = document.analyze_sentiment().sentiment"
   ]
  },
  {
   "cell_type": "code",
   "execution_count": 14,
   "metadata": {
    "collapsed": false
   },
   "outputs": [
    {
     "name": "stdout",
     "output_type": "stream",
     "text": [
      "(-0.2, 0.2)\n"
     ]
    }
   ],
   "source": [
    "print(sen.score, sen.magnitude)"
   ]
  },
  {
   "cell_type": "code",
   "execution_count": 15,
   "metadata": {
    "collapsed": true
   },
   "outputs": [],
   "source": [
    "ents = document.analyze_entities().entities"
   ]
  },
  {
   "cell_type": "code",
   "execution_count": 16,
   "metadata": {
    "collapsed": false
   },
   "outputs": [
    {
     "name": "stdout",
     "output_type": "stream",
     "text": [
      "(u'guys', u'PERSON', {}, 0.8466744, [<google.cloud.language.entity.Mention object at 0x119697350>])\n",
      "(u'Washington', u'LOCATION', {u'mid': u'/m/0rh6k', u'wikipedia_url': u'http://en.wikipedia.org/wiki/Washington,_D.C.'}, 0.1533256, [<google.cloud.language.entity.Mention object at 0x1196a1050>])\n"
     ]
    }
   ],
   "source": [
    "for ent in ents:\n",
    "    print(ent.name, ent.entity_type, ent.metadata, ent.salience, ent.mentions)"
   ]
  },
  {
   "cell_type": "code",
   "execution_count": 17,
   "metadata": {
    "collapsed": false
   },
   "outputs": [
    {
     "ename": "TypeError",
     "evalue": "'list' object is not callable",
     "output_type": "error",
     "traceback": [
      "\u001b[0;31m------------------------------------------------------------\u001b[0m",
      "\u001b[0;31mTypeError\u001b[0m                  Traceback (most recent call last)",
      "\u001b[0;32m<ipython-input-17-f79f82df036d>\u001b[0m in \u001b[0;36m<module>\u001b[0;34m()\u001b[0m\n\u001b[0;32m----> 1\u001b[0;31m \u001b[0mtokens\u001b[0m \u001b[0;34m=\u001b[0m \u001b[0mdocument\u001b[0m\u001b[0;34m.\u001b[0m\u001b[0manalyze_syntax\u001b[0m\u001b[0;34m(\u001b[0m\u001b[0;34m)\u001b[0m\u001b[0;34m.\u001b[0m\u001b[0mtokens\u001b[0m\u001b[0;34m(\u001b[0m\u001b[0;34m)\u001b[0m\u001b[0;34m\u001b[0m\u001b[0m\n\u001b[0m\u001b[1;32m      2\u001b[0m \u001b[0;32mfor\u001b[0m \u001b[0mtokens\u001b[0m \u001b[0;32min\u001b[0m \u001b[0mtokens\u001b[0m\u001b[0;34m:\u001b[0m\u001b[0;34m\u001b[0m\u001b[0m\n\u001b[1;32m      3\u001b[0m     \u001b[0;32mprint\u001b[0m\u001b[0;34m(\u001b[0m\u001b[0;34m'{}: {}'\u001b[0m\u001b[0;34m.\u001b[0m\u001b[0mformat\u001b[0m\u001b[0;34m(\u001b[0m\u001b[0mtoken\u001b[0m\u001b[0;34m.\u001b[0m\u001b[0mpart_of_speech\u001b[0m\u001b[0;34m,\u001b[0m \u001b[0mtoken\u001b[0m\u001b[0;34m.\u001b[0m\u001b[0mtext_content\u001b[0m\u001b[0;34m)\u001b[0m\u001b[0;34m)\u001b[0m\u001b[0;34m\u001b[0m\u001b[0m\n",
      "\u001b[0;31mTypeError\u001b[0m: 'list' object is not callable"
     ]
    }
   ],
   "source": [
    "tokens = document.analyze_syntax().tokens()\n",
    "for tokens in tokens:\n",
    "    print('{}: {}'.format(token.part_of_speech, token.text_content))"
   ]
  },
  {
   "cell_type": "code",
   "execution_count": null,
   "metadata": {
    "collapsed": true
   },
   "outputs": [],
   "source": []
  }
 ],
 "metadata": {
  "kernelspec": {
   "display_name": "Python 2",
   "language": "python",
   "name": "python2"
  },
  "language_info": {
   "codemirror_mode": {
    "name": "ipython",
    "version": 2
   },
   "file_extension": ".py",
   "mimetype": "text/x-python",
   "name": "python",
   "nbconvert_exporter": "python",
   "pygments_lexer": "ipython2",
   "version": "2.7.13"
  }
 },
 "nbformat": 4,
 "nbformat_minor": 2
}
